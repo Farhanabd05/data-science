{
 "cells": [
  {
   "cell_type": "code",
   "execution_count": 1,
   "id": "7edb206f",
   "metadata": {
    "_execution_state": "idle",
    "_uuid": "051d70d956493feee0c6d64651c6a088724dca2a",
    "execution": {
     "iopub.execute_input": "2025-02-25T04:37:28.894319Z",
     "iopub.status.busy": "2025-02-25T04:37:28.893916Z",
     "iopub.status.idle": "2025-02-25T04:37:32.372783Z",
     "shell.execute_reply": "2025-02-25T04:37:32.371683Z"
    },
    "papermill": {
     "duration": 3.486641,
     "end_time": "2025-02-25T04:37:32.375386",
     "exception": false,
     "start_time": "2025-02-25T04:37:28.888745",
     "status": "completed"
    },
    "tags": []
   },
   "outputs": [],
   "source": [
    "import pandas as pd\n",
    "import re\n",
    "import string\n",
    "import emoji\n",
    "from sklearn.feature_extraction.text import TfidfVectorizer\n",
    "from sklearn.linear_model import LogisticRegression\n",
    "from sklearn.pipeline import Pipeline\n",
    "from sklearn.naive_bayes import MultinomialNB\n",
    "from sklearn.model_selection import train_test_split\n",
    "from sklearn.metrics import f1_score\n",
    "from nltk.corpus import stopwords\n",
    "from nltk.tokenize import word_tokenize\n",
    "import nltk"
   ]
  },
  {
   "cell_type": "code",
   "execution_count": 2,
   "id": "21247689",
   "metadata": {
    "execution": {
     "iopub.execute_input": "2025-02-25T04:37:32.383937Z",
     "iopub.status.busy": "2025-02-25T04:37:32.383393Z",
     "iopub.status.idle": "2025-02-25T04:37:32.942164Z",
     "shell.execute_reply": "2025-02-25T04:37:32.940932Z"
    },
    "papermill": {
     "duration": 0.565854,
     "end_time": "2025-02-25T04:37:32.944855",
     "exception": false,
     "start_time": "2025-02-25T04:37:32.379001",
     "status": "completed"
    },
    "tags": []
   },
   "outputs": [],
   "source": [
    "import catboost as ct"
   ]
  },
  {
   "cell_type": "code",
   "execution_count": 3,
   "id": "10231f58",
   "metadata": {
    "execution": {
     "iopub.execute_input": "2025-02-25T04:37:32.953140Z",
     "iopub.status.busy": "2025-02-25T04:37:32.952731Z",
     "iopub.status.idle": "2025-02-25T04:37:33.292062Z",
     "shell.execute_reply": "2025-02-25T04:37:33.290846Z"
    },
    "papermill": {
     "duration": 0.346455,
     "end_time": "2025-02-25T04:37:33.294720",
     "exception": false,
     "start_time": "2025-02-25T04:37:32.948265",
     "status": "completed"
    },
    "tags": []
   },
   "outputs": [
    {
     "name": "stdout",
     "output_type": "stream",
     "text": [
      "[nltk_data] Downloading package stopwords to /usr/share/nltk_data...\n",
      "[nltk_data]   Unzipping corpora/stopwords.zip.\n",
      "[nltk_data] Downloading package punkt to /usr/share/nltk_data...\n",
      "[nltk_data]   Package punkt is already up-to-date!\n"
     ]
    }
   ],
   "source": [
    "# Download stopwords and tokenizer\n",
    "nltk.download('stopwords')\n",
    "nltk.download('punkt')\n",
    "\n",
    "# Load datasets\n",
    "train_df = pd.read_csv(\"/kaggle/input/data-community-hmif-playground-ep-02/train.csv\")\n",
    "test_df = pd.read_csv(\"/kaggle/input/data-community-hmif-playground-ep-02/test.csv\")"
   ]
  },
  {
   "cell_type": "code",
   "execution_count": 4,
   "id": "5bc0315c",
   "metadata": {
    "execution": {
     "iopub.execute_input": "2025-02-25T04:37:33.304077Z",
     "iopub.status.busy": "2025-02-25T04:37:33.302844Z",
     "iopub.status.idle": "2025-02-25T04:37:33.320068Z",
     "shell.execute_reply": "2025-02-25T04:37:33.318762Z"
    },
    "papermill": {
     "duration": 0.024414,
     "end_time": "2025-02-25T04:37:33.322555",
     "exception": false,
     "start_time": "2025-02-25T04:37:33.298141",
     "status": "completed"
    },
    "tags": []
   },
   "outputs": [
    {
     "data": {
      "text/plain": [
       "array(['Politik', 'Pertahanan dan Keamanan', 'Sosial Budaya',\n",
       "       'Sumber Daya Alam', 'Ideologi', 'Ekonomi', 'Demografi', 'Geografi'],\n",
       "      dtype=object)"
      ]
     },
     "execution_count": 4,
     "metadata": {},
     "output_type": "execute_result"
    }
   ],
   "source": [
    "train_df['label'].unique()"
   ]
  },
  {
   "cell_type": "code",
   "execution_count": 5,
   "id": "6116b9e8",
   "metadata": {
    "execution": {
     "iopub.execute_input": "2025-02-25T04:37:33.331736Z",
     "iopub.status.busy": "2025-02-25T04:37:33.330878Z",
     "iopub.status.idle": "2025-02-25T04:37:33.345635Z",
     "shell.execute_reply": "2025-02-25T04:37:33.344647Z"
    },
    "papermill": {
     "duration": 0.021869,
     "end_time": "2025-02-25T04:37:33.347994",
     "exception": false,
     "start_time": "2025-02-25T04:37:33.326125",
     "status": "completed"
    },
    "tags": []
   },
   "outputs": [
    {
     "data": {
      "text/plain": [
       "label\n",
       "Politik                    2378\n",
       "Sosial Budaya               470\n",
       "Pertahanan dan Keamanan     320\n",
       "Ideologi                    320\n",
       "Ekonomi                     294\n",
       "Sumber Daya Alam            153\n",
       "Demografi                    49\n",
       "Geografi                     16\n",
       "Name: count, dtype: int64"
      ]
     },
     "execution_count": 5,
     "metadata": {},
     "output_type": "execute_result"
    }
   ],
   "source": [
    "train_df['label'].value_counts()"
   ]
  },
  {
   "cell_type": "code",
   "execution_count": 6,
   "id": "881e844a",
   "metadata": {
    "execution": {
     "iopub.execute_input": "2025-02-25T04:37:33.356745Z",
     "iopub.status.busy": "2025-02-25T04:37:33.356406Z",
     "iopub.status.idle": "2025-02-25T04:37:33.363965Z",
     "shell.execute_reply": "2025-02-25T04:37:33.362507Z"
    },
    "papermill": {
     "duration": 0.01498,
     "end_time": "2025-02-25T04:37:33.366585",
     "exception": false,
     "start_time": "2025-02-25T04:37:33.351605",
     "status": "completed"
    },
    "tags": []
   },
   "outputs": [],
   "source": [
    "# Text Cleaning Function\n",
    "def clean_text(text):\n",
    "    # Convert emojis to text\n",
    "    text = emoji.demojize(text, delimiters=(\" \", \" \"))\n",
    "    text = text.lower()  # Convert to lowercase\n",
    "    text = re.sub(r'http\\S+|www\\S+', '', text)  # Remove URLs\n",
    "    # Remove mentions and hashtags\n",
    "    text = re.sub(r'@[A-Za-z0-9_]+|#[A-Za-z0-9_]+', '', text)\n",
    "    text = text.translate(str.maketrans('', '', string.punctuation))  # Remove punctuation\n",
    "    text = re.sub(r'\\d+', '', text)  # Remove numbers\n",
    "    # Remove extra spaces\n",
    "    text = re.sub(r'\\s+', ' ', text).strip()\n",
    "    words = word_tokenize(text)  # Tokenize\n",
    "    words = [word for word in words if word not in stopwords.words('english')]  # Remove stopwords\n",
    "    return ' '.join(words)\n"
   ]
  },
  {
   "cell_type": "code",
   "execution_count": 7,
   "id": "83155096",
   "metadata": {
    "execution": {
     "iopub.execute_input": "2025-02-25T04:37:33.375538Z",
     "iopub.status.busy": "2025-02-25T04:37:33.375159Z",
     "iopub.status.idle": "2025-02-25T04:37:54.862925Z",
     "shell.execute_reply": "2025-02-25T04:37:54.861524Z"
    },
    "papermill": {
     "duration": 21.495185,
     "end_time": "2025-02-25T04:37:54.865698",
     "exception": false,
     "start_time": "2025-02-25T04:37:33.370513",
     "status": "completed"
    },
    "tags": []
   },
   "outputs": [],
   "source": [
    "# Apply cleaning\n",
    "train_df['clean_text'] = train_df['text'].apply(clean_text)\n",
    "test_df['clean_text'] = test_df['text'].apply(clean_text)"
   ]
  },
  {
   "cell_type": "code",
   "execution_count": 8,
   "id": "aa9483fd",
   "metadata": {
    "execution": {
     "iopub.execute_input": "2025-02-25T04:37:54.874901Z",
     "iopub.status.busy": "2025-02-25T04:37:54.874515Z",
     "iopub.status.idle": "2025-02-25T04:37:54.886629Z",
     "shell.execute_reply": "2025-02-25T04:37:54.885585Z"
    },
    "papermill": {
     "duration": 0.019617,
     "end_time": "2025-02-25T04:37:54.888994",
     "exception": false,
     "start_time": "2025-02-25T04:37:54.869377",
     "status": "completed"
    },
    "tags": []
   },
   "outputs": [],
   "source": [
    "# Split dataset\n",
    "X_train, X_val, y_train, y_val = train_test_split(train_df['clean_text'], train_df['label'], test_size=0.2, random_state=42)"
   ]
  },
  {
   "cell_type": "code",
   "execution_count": 9,
   "id": "0ddacc8d",
   "metadata": {
    "execution": {
     "iopub.execute_input": "2025-02-25T04:37:54.897884Z",
     "iopub.status.busy": "2025-02-25T04:37:54.897470Z",
     "iopub.status.idle": "2025-02-25T04:37:56.076025Z",
     "shell.execute_reply": "2025-02-25T04:37:56.074851Z"
    },
    "papermill": {
     "duration": 1.186261,
     "end_time": "2025-02-25T04:37:56.078957",
     "exception": false,
     "start_time": "2025-02-25T04:37:54.892696",
     "status": "completed"
    },
    "tags": []
   },
   "outputs": [],
   "source": [
    "# Create pipeline\n",
    "import lightgbm as lgb\n",
    "pipeline = Pipeline([\n",
    "    ('tfidf', TfidfVectorizer(ngram_range=(1,2), max_features=5000)),\n",
    "    ('clf', MultinomialNB())\n",
    "])"
   ]
  },
  {
   "cell_type": "code",
   "execution_count": 10,
   "id": "653895e7",
   "metadata": {
    "execution": {
     "iopub.execute_input": "2025-02-25T04:37:56.088423Z",
     "iopub.status.busy": "2025-02-25T04:37:56.087811Z",
     "iopub.status.idle": "2025-02-25T04:37:56.551664Z",
     "shell.execute_reply": "2025-02-25T04:37:56.550420Z"
    },
    "papermill": {
     "duration": 0.471367,
     "end_time": "2025-02-25T04:37:56.554199",
     "exception": false,
     "start_time": "2025-02-25T04:37:56.082832",
     "status": "completed"
    },
    "tags": []
   },
   "outputs": [
    {
     "data": {
      "text/html": [
       "<style>#sk-container-id-1 {color: black;background-color: white;}#sk-container-id-1 pre{padding: 0;}#sk-container-id-1 div.sk-toggleable {background-color: white;}#sk-container-id-1 label.sk-toggleable__label {cursor: pointer;display: block;width: 100%;margin-bottom: 0;padding: 0.3em;box-sizing: border-box;text-align: center;}#sk-container-id-1 label.sk-toggleable__label-arrow:before {content: \"▸\";float: left;margin-right: 0.25em;color: #696969;}#sk-container-id-1 label.sk-toggleable__label-arrow:hover:before {color: black;}#sk-container-id-1 div.sk-estimator:hover label.sk-toggleable__label-arrow:before {color: black;}#sk-container-id-1 div.sk-toggleable__content {max-height: 0;max-width: 0;overflow: hidden;text-align: left;background-color: #f0f8ff;}#sk-container-id-1 div.sk-toggleable__content pre {margin: 0.2em;color: black;border-radius: 0.25em;background-color: #f0f8ff;}#sk-container-id-1 input.sk-toggleable__control:checked~div.sk-toggleable__content {max-height: 200px;max-width: 100%;overflow: auto;}#sk-container-id-1 input.sk-toggleable__control:checked~label.sk-toggleable__label-arrow:before {content: \"▾\";}#sk-container-id-1 div.sk-estimator input.sk-toggleable__control:checked~label.sk-toggleable__label {background-color: #d4ebff;}#sk-container-id-1 div.sk-label input.sk-toggleable__control:checked~label.sk-toggleable__label {background-color: #d4ebff;}#sk-container-id-1 input.sk-hidden--visually {border: 0;clip: rect(1px 1px 1px 1px);clip: rect(1px, 1px, 1px, 1px);height: 1px;margin: -1px;overflow: hidden;padding: 0;position: absolute;width: 1px;}#sk-container-id-1 div.sk-estimator {font-family: monospace;background-color: #f0f8ff;border: 1px dotted black;border-radius: 0.25em;box-sizing: border-box;margin-bottom: 0.5em;}#sk-container-id-1 div.sk-estimator:hover {background-color: #d4ebff;}#sk-container-id-1 div.sk-parallel-item::after {content: \"\";width: 100%;border-bottom: 1px solid gray;flex-grow: 1;}#sk-container-id-1 div.sk-label:hover label.sk-toggleable__label {background-color: #d4ebff;}#sk-container-id-1 div.sk-serial::before {content: \"\";position: absolute;border-left: 1px solid gray;box-sizing: border-box;top: 0;bottom: 0;left: 50%;z-index: 0;}#sk-container-id-1 div.sk-serial {display: flex;flex-direction: column;align-items: center;background-color: white;padding-right: 0.2em;padding-left: 0.2em;position: relative;}#sk-container-id-1 div.sk-item {position: relative;z-index: 1;}#sk-container-id-1 div.sk-parallel {display: flex;align-items: stretch;justify-content: center;background-color: white;position: relative;}#sk-container-id-1 div.sk-item::before, #sk-container-id-1 div.sk-parallel-item::before {content: \"\";position: absolute;border-left: 1px solid gray;box-sizing: border-box;top: 0;bottom: 0;left: 50%;z-index: -1;}#sk-container-id-1 div.sk-parallel-item {display: flex;flex-direction: column;z-index: 1;position: relative;background-color: white;}#sk-container-id-1 div.sk-parallel-item:first-child::after {align-self: flex-end;width: 50%;}#sk-container-id-1 div.sk-parallel-item:last-child::after {align-self: flex-start;width: 50%;}#sk-container-id-1 div.sk-parallel-item:only-child::after {width: 0;}#sk-container-id-1 div.sk-dashed-wrapped {border: 1px dashed gray;margin: 0 0.4em 0.5em 0.4em;box-sizing: border-box;padding-bottom: 0.4em;background-color: white;}#sk-container-id-1 div.sk-label label {font-family: monospace;font-weight: bold;display: inline-block;line-height: 1.2em;}#sk-container-id-1 div.sk-label-container {text-align: center;}#sk-container-id-1 div.sk-container {/* jupyter's `normalize.less` sets `[hidden] { display: none; }` but bootstrap.min.css set `[hidden] { display: none !important; }` so we also need the `!important` here to be able to override the default hidden behavior on the sphinx rendered scikit-learn.org. See: https://github.com/scikit-learn/scikit-learn/issues/21755 */display: inline-block !important;position: relative;}#sk-container-id-1 div.sk-text-repr-fallback {display: none;}</style><div id=\"sk-container-id-1\" class=\"sk-top-container\"><div class=\"sk-text-repr-fallback\"><pre>Pipeline(steps=[(&#x27;tfidf&#x27;,\n",
       "                 TfidfVectorizer(max_features=5000, ngram_range=(1, 2))),\n",
       "                (&#x27;clf&#x27;, MultinomialNB())])</pre><b>In a Jupyter environment, please rerun this cell to show the HTML representation or trust the notebook. <br />On GitHub, the HTML representation is unable to render, please try loading this page with nbviewer.org.</b></div><div class=\"sk-container\" hidden><div class=\"sk-item sk-dashed-wrapped\"><div class=\"sk-label-container\"><div class=\"sk-label sk-toggleable\"><input class=\"sk-toggleable__control sk-hidden--visually\" id=\"sk-estimator-id-1\" type=\"checkbox\" ><label for=\"sk-estimator-id-1\" class=\"sk-toggleable__label sk-toggleable__label-arrow\">Pipeline</label><div class=\"sk-toggleable__content\"><pre>Pipeline(steps=[(&#x27;tfidf&#x27;,\n",
       "                 TfidfVectorizer(max_features=5000, ngram_range=(1, 2))),\n",
       "                (&#x27;clf&#x27;, MultinomialNB())])</pre></div></div></div><div class=\"sk-serial\"><div class=\"sk-item\"><div class=\"sk-estimator sk-toggleable\"><input class=\"sk-toggleable__control sk-hidden--visually\" id=\"sk-estimator-id-2\" type=\"checkbox\" ><label for=\"sk-estimator-id-2\" class=\"sk-toggleable__label sk-toggleable__label-arrow\">TfidfVectorizer</label><div class=\"sk-toggleable__content\"><pre>TfidfVectorizer(max_features=5000, ngram_range=(1, 2))</pre></div></div></div><div class=\"sk-item\"><div class=\"sk-estimator sk-toggleable\"><input class=\"sk-toggleable__control sk-hidden--visually\" id=\"sk-estimator-id-3\" type=\"checkbox\" ><label for=\"sk-estimator-id-3\" class=\"sk-toggleable__label sk-toggleable__label-arrow\">MultinomialNB</label><div class=\"sk-toggleable__content\"><pre>MultinomialNB()</pre></div></div></div></div></div></div></div>"
      ],
      "text/plain": [
       "Pipeline(steps=[('tfidf',\n",
       "                 TfidfVectorizer(max_features=5000, ngram_range=(1, 2))),\n",
       "                ('clf', MultinomialNB())])"
      ]
     },
     "execution_count": 10,
     "metadata": {},
     "output_type": "execute_result"
    }
   ],
   "source": [
    "# Train model\n",
    "pipeline.fit(X_train, y_train)"
   ]
  },
  {
   "cell_type": "code",
   "execution_count": 11,
   "id": "975fda3e",
   "metadata": {
    "execution": {
     "iopub.execute_input": "2025-02-25T04:37:56.563994Z",
     "iopub.status.busy": "2025-02-25T04:37:56.563661Z",
     "iopub.status.idle": "2025-02-25T04:37:56.625416Z",
     "shell.execute_reply": "2025-02-25T04:37:56.624102Z"
    },
    "papermill": {
     "duration": 0.0696,
     "end_time": "2025-02-25T04:37:56.627880",
     "exception": false,
     "start_time": "2025-02-25T04:37:56.558280",
     "status": "completed"
    },
    "tags": []
   },
   "outputs": [
    {
     "name": "stdout",
     "output_type": "stream",
     "text": [
      "Validation F1 Score: 0.3229\n"
     ]
    }
   ],
   "source": [
    "# Validate model\n",
    "y_pred = pipeline.predict(X_val)\n",
    "f1 = f1_score(y_val, y_pred, average='macro')\n",
    "print(f'Validation F1 Score: {f1:.4f}')"
   ]
  },
  {
   "cell_type": "code",
   "execution_count": 12,
   "id": "3c04c9af",
   "metadata": {
    "execution": {
     "iopub.execute_input": "2025-02-25T04:37:56.637168Z",
     "iopub.status.busy": "2025-02-25T04:37:56.636794Z",
     "iopub.status.idle": "2025-02-25T04:37:56.705563Z",
     "shell.execute_reply": "2025-02-25T04:37:56.704513Z"
    },
    "papermill": {
     "duration": 0.075912,
     "end_time": "2025-02-25T04:37:56.707668",
     "exception": false,
     "start_time": "2025-02-25T04:37:56.631756",
     "status": "completed"
    },
    "tags": []
   },
   "outputs": [
    {
     "name": "stdout",
     "output_type": "stream",
     "text": [
      "Submission file saved!\n"
     ]
    }
   ],
   "source": [
    "# Predict on test set\n",
    "test_preds = pipeline.predict(test_df['clean_text']).flatten()\n",
    "\n",
    "# Save submission\n",
    "submission = pd.DataFrame({'ID': test_df['ID'], 'label': test_preds})\n",
    "submission.to_csv('submission2.csv', index=False)\n",
    "print(\"Submission file saved!\")"
   ]
  }
 ],
 "metadata": {
  "kaggle": {
   "accelerator": "none",
   "dataSources": [
    {
     "databundleVersionId": 11192204,
     "sourceId": 82136,
     "sourceType": "competition"
    }
   ],
   "dockerImageVersionId": 30746,
   "isGpuEnabled": false,
   "isInternetEnabled": true,
   "language": "python",
   "sourceType": "notebook"
  },
  "kernelspec": {
   "display_name": "Python 3",
   "language": "python",
   "name": "python3"
  },
  "language_info": {
   "codemirror_mode": {
    "name": "ipython",
    "version": 3
   },
   "file_extension": ".py",
   "mimetype": "text/x-python",
   "name": "python",
   "nbconvert_exporter": "python",
   "pygments_lexer": "ipython3",
   "version": "3.10.13"
  },
  "papermill": {
   "default_parameters": {},
   "duration": 32.141864,
   "end_time": "2025-02-25T04:37:57.534513",
   "environment_variables": {},
   "exception": null,
   "input_path": "__notebook__.ipynb",
   "output_path": "__notebook__.ipynb",
   "parameters": {},
   "start_time": "2025-02-25T04:37:25.392649",
   "version": "2.5.0"
  }
 },
 "nbformat": 4,
 "nbformat_minor": 5
}
