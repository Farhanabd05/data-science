{
 "cells": [
  {
   "cell_type": "code",
   "execution_count": 1,
   "id": "f0075948",
   "metadata": {
    "_cell_guid": "b1076dfc-b9ad-4769-8c92-a6c4dae69d19",
    "_uuid": "8f2839f25d086af736a60e9eeb907d3b93b6e0e5",
    "execution": {
     "iopub.execute_input": "2024-06-25T02:06:58.549709Z",
     "iopub.status.busy": "2024-06-25T02:06:58.549225Z",
     "iopub.status.idle": "2024-06-25T02:06:59.605676Z",
     "shell.execute_reply": "2024-06-25T02:06:59.603906Z"
    },
    "papermill": {
     "duration": 1.064573,
     "end_time": "2024-06-25T02:06:59.608685",
     "exception": false,
     "start_time": "2024-06-25T02:06:58.544112",
     "status": "completed"
    },
    "tags": []
   },
   "outputs": [
    {
     "name": "stdout",
     "output_type": "stream",
     "text": [
      "/kaggle/input/titanic/train.csv\n",
      "/kaggle/input/titanic/test.csv\n",
      "/kaggle/input/titanic/gender_submission.csv\n"
     ]
    }
   ],
   "source": [
    "# This Python 3 environment comes with many helpful analytics libraries installed\n",
    "# It is defined by the kaggle/python Docker image: https://github.com/kaggle/docker-python\n",
    "# For example, here's several helpful packages to load\n",
    "\n",
    "import numpy as np # linear algebra\n",
    "import pandas as pd # data processing, CSV file I/O (e.g. pd.read_csv)\n",
    "\n",
    "# Input data files are available in the read-only \"../input/\" directory\n",
    "# For example, running this (by clicking run or pressing Shift+Enter) will list all files under the input directory\n",
    "\n",
    "import os\n",
    "for dirname, _, filenames in os.walk('/kaggle/input'):\n",
    "    for filename in filenames:\n",
    "        print(os.path.join(dirname, filename))\n",
    "\n",
    "# You can write up to 20GB to the current directory (/kaggle/working/) that gets preserved as output when you create a version using \"Save & Run All\" \n",
    "# You can also write temporary files to /kaggle/temp/, but they won't be saved outside of the current session"
   ]
  },
  {
   "cell_type": "code",
   "execution_count": 2,
   "id": "96faf407",
   "metadata": {
    "execution": {
     "iopub.execute_input": "2024-06-25T02:06:59.617303Z",
     "iopub.status.busy": "2024-06-25T02:06:59.616713Z",
     "iopub.status.idle": "2024-06-25T02:06:59.661642Z",
     "shell.execute_reply": "2024-06-25T02:06:59.660323Z"
    },
    "papermill": {
     "duration": 0.052201,
     "end_time": "2024-06-25T02:06:59.664429",
     "exception": false,
     "start_time": "2024-06-25T02:06:59.612228",
     "status": "completed"
    },
    "tags": []
   },
   "outputs": [
    {
     "name": "stdout",
     "output_type": "stream",
     "text": [
      "% of women survived: 0.7420382165605095\n"
     ]
    }
   ],
   "source": [
    "train_data=pd.read_csv('/kaggle/input/titanic/train.csv')\n",
    "test_data=pd.read_csv('/kaggle/input/titanic/test.csv')\n",
    "women = train_data.loc[train_data.Sex == 'female'][\"Survived\"]\n",
    "rate_women = sum(women)/len(women)\n",
    "\n",
    "print(\"% of women survived:\", rate_women)"
   ]
  },
  {
   "cell_type": "code",
   "execution_count": 3,
   "id": "6f97982b",
   "metadata": {
    "execution": {
     "iopub.execute_input": "2024-06-25T02:06:59.672837Z",
     "iopub.status.busy": "2024-06-25T02:06:59.671847Z",
     "iopub.status.idle": "2024-06-25T02:06:59.681053Z",
     "shell.execute_reply": "2024-06-25T02:06:59.679687Z"
    },
    "papermill": {
     "duration": 0.016174,
     "end_time": "2024-06-25T02:06:59.683713",
     "exception": false,
     "start_time": "2024-06-25T02:06:59.667539",
     "status": "completed"
    },
    "tags": []
   },
   "outputs": [
    {
     "name": "stdout",
     "output_type": "stream",
     "text": [
      "% of men survived: 0.18890814558058924\n"
     ]
    }
   ],
   "source": [
    "men = train_data.loc[train_data.Sex == 'male'][\"Survived\"]\n",
    "rate_men = sum(men)/len(men)\n",
    "\n",
    "print(\"% of men survived:\", rate_men)"
   ]
  },
  {
   "cell_type": "code",
   "execution_count": 4,
   "id": "990531bf",
   "metadata": {
    "execution": {
     "iopub.execute_input": "2024-06-25T02:06:59.692193Z",
     "iopub.status.busy": "2024-06-25T02:06:59.691772Z",
     "iopub.status.idle": "2024-06-25T02:07:02.031593Z",
     "shell.execute_reply": "2024-06-25T02:07:02.030063Z"
    },
    "papermill": {
     "duration": 2.347343,
     "end_time": "2024-06-25T02:07:02.034461",
     "exception": false,
     "start_time": "2024-06-25T02:06:59.687118",
     "status": "completed"
    },
    "tags": []
   },
   "outputs": [
    {
     "name": "stdout",
     "output_type": "stream",
     "text": [
      "submission successful \n"
     ]
    }
   ],
   "source": [
    "from sklearn.ensemble import RandomForestClassifier\n",
    "\n",
    "train_data=pd.read_csv('/kaggle/input/titanic/train.csv')\n",
    "test_data=pd.read_csv('/kaggle/input/titanic/test.csv')\n",
    "\n",
    "y = train_data[\"Survived\"]\n",
    "features = [\"Pclass\", \"Sex\", \"SibSp\", \"Parch\"]\n",
    "X = pd.get_dummies(train_data[features])\n",
    "X_test = pd.get_dummies(test_data[features])\n",
    "\n",
    "model = RandomForestClassifier(n_estimators=100, max_depth=5, random_state=1)\n",
    "model.fit(X, y)\n",
    "predictions = model.predict(X_test)\n",
    "\n",
    "output = pd.DataFrame({'PassengerId': test_data.PassengerId, 'Survived': predictions})\n",
    "output.to_csv('submission.csv', index=False)\n",
    "print(\"submission successful \")"
   ]
  }
 ],
 "metadata": {
  "kaggle": {
   "accelerator": "none",
   "dataSources": [
    {
     "databundleVersionId": 26502,
     "sourceId": 3136,
     "sourceType": "competition"
    }
   ],
   "dockerImageVersionId": 30732,
   "isGpuEnabled": false,
   "isInternetEnabled": true,
   "language": "python",
   "sourceType": "notebook"
  },
  "kernelspec": {
   "display_name": "Python 3",
   "language": "python",
   "name": "python3"
  },
  "language_info": {
   "codemirror_mode": {
    "name": "ipython",
    "version": 3
   },
   "file_extension": ".py",
   "mimetype": "text/x-python",
   "name": "python",
   "nbconvert_exporter": "python",
   "pygments_lexer": "ipython3",
   "version": "3.10.13"
  },
  "papermill": {
   "default_parameters": {},
   "duration": 8.126291,
   "end_time": "2024-06-25T02:07:02.760354",
   "environment_variables": {},
   "exception": null,
   "input_path": "__notebook__.ipynb",
   "output_path": "__notebook__.ipynb",
   "parameters": {},
   "start_time": "2024-06-25T02:06:54.634063",
   "version": "2.5.0"
  }
 },
 "nbformat": 4,
 "nbformat_minor": 5
}
